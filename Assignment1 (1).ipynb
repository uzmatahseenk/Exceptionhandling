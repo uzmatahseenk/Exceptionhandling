{
 "cells": [
  {
   "cell_type": "code",
   "execution_count": 3,
   "id": "23ba902d-403f-4098-9f31-0f254dea220f",
   "metadata": {},
   "outputs": [
    {
     "data": {
      "text/plain": [
       "\"Ans -1 Exception in python  occurs when internal event occur which changes the flow of program. It usually \\noccurs after the program passes syntax error.For example- Dividing number by zero will raise ZeroDivisionError. \\nFollowing is the difference between Exceptions and Syntax errors:-\\n Syntax error occured when we write code incorrectly, on the other hand exception occurs even if the code is written corrrect but there are some \\ninternal problem such as we open a file which doesn't even exist.\""
      ]
     },
     "execution_count": 3,
     "metadata": {},
     "output_type": "execute_result"
    }
   ],
   "source": [
    " \"\"\"Ans -1 Exception in python  occurs when internal event occur which changes the flow of program. It usually \n",
    " occurs after the program passes syntax error.For example- Dividing number by zero will raise ZeroDivisionError. \n",
    " Following is the difference between Exceptions and Syntax errors:-\n",
    "  Syntax error occured when we write code incorrectly, on the other hand exception occurs even if the code is written corrrect but there are some \n",
    " internal problem such as we open a file which doesn't even exist.\"\"\"\n",
    " "
   ]
  },
  {
   "cell_type": "code",
   "execution_count": 7,
   "id": "e698db7d-ab94-4c7d-83bb-2ff580b792ed",
   "metadata": {},
   "outputs": [
    {
     "ename": "ZeroDivisionError",
     "evalue": "division by zero",
     "output_type": "error",
     "traceback": [
      "\u001b[0;31m---------------------------------------------------------------------------\u001b[0m",
      "\u001b[0;31mZeroDivisionError\u001b[0m                         Traceback (most recent call last)",
      "Cell \u001b[0;32mIn[7], line 4\u001b[0m\n\u001b[1;32m      1\u001b[0m \u001b[38;5;66;03m#Ans-2 If the exception is not handled further code will not be \u001b[39;00m\n\u001b[1;32m      2\u001b[0m \u001b[38;5;66;03m#executed and it will lead to termination of program without even interpreting the whole code after exception.\u001b[39;00m\n\u001b[1;32m      3\u001b[0m \u001b[38;5;66;03m#For example\"\"\"\u001b[39;00m\n\u001b[0;32m----> 4\u001b[0m \u001b[38;5;28mprint\u001b[39m( \u001b[38;5;241;43m10\u001b[39;49m\u001b[38;5;241;43m/\u001b[39;49m\u001b[38;5;241;43m0\u001b[39;49m)\n\u001b[1;32m      5\u001b[0m \u001b[38;5;28mprint\u001b[39m(\u001b[38;5;241m4\u001b[39m\u001b[38;5;241m+\u001b[39m\u001b[38;5;241m5\u001b[39m)\n",
      "\u001b[0;31mZeroDivisionError\u001b[0m: division by zero"
     ]
    }
   ],
   "source": [
    "#Ans-2 If the exception is not handled further code will not be \n",
    "#executed and it will lead to termination of program without even interpreting the whole code after exception.\n",
    "#For example\"\"\"\n",
    "print( 10/0)\n",
    "print(4+5)\n"
   ]
  },
  {
   "cell_type": "code",
   "execution_count": 6,
   "id": "2c08a1c6-1c7e-43d5-9f1d-f33c5a98fa19",
   "metadata": {},
   "outputs": [
    {
     "name": "stdout",
     "output_type": "stream",
     "text": [
      "division by zero\n",
      "9\n"
     ]
    }
   ],
   "source": [
    "#Here exception is handled which further allows sum to execute.\n",
    "try:\n",
    "    10/0\n",
    "except ZeroDivisionError as e:\n",
    "    print(e) \n",
    "print(4+5)\n"
   ]
  },
  {
   "cell_type": "code",
   "execution_count": 24,
   "id": "179a898e-4fa6-451a-a67d-d8362db29fab",
   "metadata": {
    "tags": []
   },
   "outputs": [
    {
     "name": "stdout",
     "output_type": "stream",
     "text": [
      "[Errno 2] No such file or directory: 'text4.txt'\n"
     ]
    }
   ],
   "source": [
    "#ANS- 4a. TRY block will allow you to test a block of code for errors\n",
    "#and else will allow you to execute code if there are no errors. Example shown below:-\n",
    "try:\n",
    "    f= open(\"text4.txt\",'r')\n",
    "    print(f.read())\n",
    "except FileNotFoundError as e:\n",
    "     print(e)\n",
    "else:\n",
    "    print(\"Written code is correct\")"
   ]
  },
  {
   "cell_type": "code",
   "execution_count": 22,
   "id": "48d34904-6100-4faa-b25c-bbecc372fae7",
   "metadata": {},
   "outputs": [
    {
     "name": "stdout",
     "output_type": "stream",
     "text": [
      "Write into my file\n",
      "Written code is correct\n"
     ]
    }
   ],
   "source": [
    "try:\n",
    "    f= open(\"test.txt\",'r')\n",
    "    print(f.read())\n",
    "except FileNotFoundError as e:\n",
    "     print(e)\n",
    "else:\n",
    "    print(\"Written code is correct\")"
   ]
  },
  {
   "cell_type": "code",
   "execution_count": 26,
   "id": "357691eb-50a3-4ffe-9cac-44059e8424a8",
   "metadata": {},
   "outputs": [
    {
     "name": "stdout",
     "output_type": "stream",
     "text": [
      "[Errno 2] No such file or directory: 'new.txt'\n",
      "It will execute in any situation. 11\n"
     ]
    }
   ],
   "source": [
    "#Ans-4b Finally keyword will execute the code in any situtation unlike else.\n",
    "try:\n",
    "    f= open(\"new.txt\",'r')\n",
    "    print(f.read())\n",
    "except FileNotFoundError as e:\n",
    "    print(e)\n",
    "finally:\n",
    "    print(\"It will execute in any situation.\", 4+7)"
   ]
  },
  {
   "cell_type": "code",
   "execution_count": 36,
   "id": "1c446d7a-0303-4fac-b008-8ef28672fb6a",
   "metadata": {},
   "outputs": [
    {
     "name": "stdin",
     "output_type": "stream",
     "text": [
      "Enter any integer 5\n"
     ]
    },
    {
     "ename": "Exception",
     "evalue": "Integer shouldn't be odd integer number",
     "output_type": "error",
     "traceback": [
      "\u001b[0;31m---------------------------------------------------------------------------\u001b[0m",
      "\u001b[0;31mException\u001b[0m                                 Traceback (most recent call last)",
      "Cell \u001b[0;32mIn[36], line 6\u001b[0m\n\u001b[1;32m      4\u001b[0m a\u001b[38;5;241m=\u001b[39m \u001b[38;5;28mint\u001b[39m(\u001b[38;5;28minput\u001b[39m(\u001b[38;5;124m\"\u001b[39m\u001b[38;5;124mEnter any integer\u001b[39m\u001b[38;5;124m\"\u001b[39m))\n\u001b[1;32m      5\u001b[0m \u001b[38;5;28;01mif\u001b[39;00m a\u001b[38;5;241m%\u001b[39m\u001b[38;5;241m2\u001b[39m\u001b[38;5;241m!=\u001b[39m\u001b[38;5;241m0\u001b[39m:\n\u001b[0;32m----> 6\u001b[0m         \u001b[38;5;28;01mraise\u001b[39;00m \u001b[38;5;167;01mException\u001b[39;00m(\u001b[38;5;124m\"\u001b[39m\u001b[38;5;124mInteger shouldn\u001b[39m\u001b[38;5;124m'\u001b[39m\u001b[38;5;124mt be odd integer number\u001b[39m\u001b[38;5;124m\"\u001b[39m)\n\u001b[1;32m      8\u001b[0m \u001b[38;5;28;01melse\u001b[39;00m:\n\u001b[1;32m      9\u001b[0m     \u001b[38;5;28mprint\u001b[39m(\u001b[38;5;124m\"\u001b[39m\u001b[38;5;124mCorrect input\u001b[39m\u001b[38;5;124m\"\u001b[39m)\n",
      "\u001b[0;31mException\u001b[0m: Integer shouldn't be odd integer number"
     ]
    }
   ],
   "source": [
    "#Ans-4c Raise keyword will raise an exception to stop the control \n",
    "#flow of program. It brings exception in the exception handler so that it can handle the program in its way.\n",
    "#For Example-\n",
    "a= int(input(\"Enter any integer\"))\n",
    "if a%2!=0:\n",
    "        raise Exception(\"Integer shouldn't be odd integer number\")\n",
    "        \n",
    "else:\n",
    "    print(\"Correct input\")"
   ]
  },
  {
   "cell_type": "code",
   "execution_count": 47,
   "id": "c733b3ce-7636-4303-8a09-d9e97d4562d0",
   "metadata": {},
   "outputs": [],
   "source": [
    "#Ans-5 Custom Exception can also be termed as user-defined exception which is not previously defined and user define them according to their need.\n",
    "#Need for custom exception arises as there are factors which cannot exceed the certain range such as age height etc.. so we\n",
    "#should define exception there . For example:-\n",
    "#Height and age cannot be negative and not even more than normal so criteria being set to avoid messy and wrong\n",
    "#data to be entered by any person. Likewise while converting farhenite into celsius\n",
    "#temperature should range between 32 and 212."
   ]
  },
  {
   "cell_type": "code",
   "execution_count": 48,
   "id": "9736a3a6-83ef-4a10-8453-707cc0eced14",
   "metadata": {},
   "outputs": [
    {
     "name": "stdin",
     "output_type": "stream",
     "text": [
      "Enter height in centimeter 12\n"
     ]
    },
    {
     "ename": "TypeError",
     "evalue": "catching classes that do not inherit from BaseException is not allowed",
     "output_type": "error",
     "traceback": [
      "\u001b[0;31m---------------------------------------------------------------------------\u001b[0m",
      "\u001b[0;31mNameError\u001b[0m                                 Traceback (most recent call last)",
      "Cell \u001b[0;32mIn[48], line 17\u001b[0m\n\u001b[1;32m     16\u001b[0m     \u001b[38;5;28mfloat\u001b[39m(\u001b[38;5;28minput\u001b[39m(\u001b[38;5;124m\"\u001b[39m\u001b[38;5;124mEnter height in centimeter\u001b[39m\u001b[38;5;124m\"\u001b[39m))\n\u001b[0;32m---> 17\u001b[0m     validheight(\u001b[43mh\u001b[49m)\n\u001b[1;32m     19\u001b[0m \u001b[38;5;28;01mexcept\u001b[39;00m validheight \u001b[38;5;28;01mas\u001b[39;00m e:\n",
      "\u001b[0;31mNameError\u001b[0m: name 'h' is not defined",
      "\nDuring handling of the above exception, another exception occurred:\n",
      "\u001b[0;31mTypeError\u001b[0m                                 Traceback (most recent call last)",
      "Cell \u001b[0;32mIn[48], line 19\u001b[0m\n\u001b[1;32m     16\u001b[0m     \u001b[38;5;28mfloat\u001b[39m(\u001b[38;5;28minput\u001b[39m(\u001b[38;5;124m\"\u001b[39m\u001b[38;5;124mEnter height in centimeter\u001b[39m\u001b[38;5;124m\"\u001b[39m))\n\u001b[1;32m     17\u001b[0m     validheight(h)\n\u001b[0;32m---> 19\u001b[0m \u001b[38;5;28;01mexcept\u001b[39;00m validheight \u001b[38;5;28;01mas\u001b[39;00m e:\n\u001b[1;32m     20\u001b[0m     \u001b[38;5;28mprint\u001b[39m(e)\n\u001b[1;32m     22\u001b[0m  \u001b[38;5;66;03m#getting error here even in class after copying the same code as sir.   \u001b[39;00m\n",
      "\u001b[0;31mTypeError\u001b[0m: catching classes that do not inherit from BaseException is not allowed"
     ]
    }
   ],
   "source": [
    "#Ans-6\n",
    "class Heighterror(Exception):\n",
    "    min_h= 20\n",
    "    max_h=251\n",
    "    \n",
    "    def __init__(self,h):\n",
    "        self.h= h\n",
    "    \n",
    "    \n",
    "def validheight(h):\n",
    "    h= float(input(\"Enter height in centimeters\"))\n",
    "    if h>Heighterror.max_h or  h<Heighterror.min_h:\n",
    "        raise Heighterror(h)\n",
    "        return (\"Valid height\",h)\n",
    "    \n",
    "try:\n",
    "    float(input(\"Enter height in centimeter\"))\n",
    "    validheight(h)\n",
    "    \n",
    "except validheight as e:\n",
    "    print(e)\n",
    "    \n",
    " #getting error here even in class after copying the same code as sir.   \n"
   ]
  },
  {
   "cell_type": "code",
   "execution_count": null,
   "id": "0638b938-bceb-49cc-96dc-1b2ea3c534ae",
   "metadata": {},
   "outputs": [],
   "source": []
  }
 ],
 "metadata": {
  "kernelspec": {
   "display_name": "Python 3 (ipykernel)",
   "language": "python",
   "name": "python3"
  },
  "language_info": {
   "codemirror_mode": {
    "name": "ipython",
    "version": 3
   },
   "file_extension": ".py",
   "mimetype": "text/x-python",
   "name": "python",
   "nbconvert_exporter": "python",
   "pygments_lexer": "ipython3",
   "version": "3.10.8"
  }
 },
 "nbformat": 4,
 "nbformat_minor": 5
}
